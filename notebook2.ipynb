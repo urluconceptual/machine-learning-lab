{
 "cells": [
  {
   "cell_type": "code",
   "execution_count": 2,
   "id": "2bf3e877",
   "metadata": {},
   "outputs": [],
   "source": [
    "import numpy as np\n",
    "import matplotlib.pyplot as plt\n",
    "from sklearn.naive_bayes import MultinomialNB"
   ]
  },
  {
   "cell_type": "code",
   "execution_count": 3,
   "id": "710c320e",
   "metadata": {},
   "outputs": [
    {
     "name": "stdout",
     "output_type": "stream",
     "text": [
      "[150. 160. 170. 180. 190.]\n"
     ]
    }
   ],
   "source": [
    "# 1.\n",
    "\n",
    "data = [(160, 'F'), (165, 'F'), (155, 'F'), (172, 'F'), (175, 'B'), (180, 'B'), (177, 'B'), (190, 'B')]\n",
    "train_data = [[p[0]] for p in data]\n",
    "train_labels = [p[1] for p in data]\n",
    "\n",
    "# transform continuous values to discrete values\n",
    "# return evenly spaced numbers over a specified interval [start, stop], with num samples\n",
    "bins = np.linspace(start=150, stop=190, num=5)\n",
    "print(bins)"
   ]
  },
  {
   "cell_type": "code",
   "execution_count": 4,
   "id": "b889ecc3",
   "metadata": {},
   "outputs": [
    {
     "name": "stdout",
     "output_type": "stream",
     "text": [
      "3\n"
     ]
    }
   ],
   "source": [
    "x = 178\n",
    "# np.digitize returns the indices of the bins to which each value in input array belongs.\n",
    "x_to_bins = np.digitize(x, bins, right = True)\n",
    "print(x_to_bins)"
   ]
  },
  {
   "cell_type": "code",
   "execution_count": 5,
   "id": "5dbb8f85",
   "metadata": {},
   "outputs": [
    {
     "name": "stdout",
     "output_type": "stream",
     "text": [
      "[0.5, 0.5, 0.75, 0.25, 0.5]\n"
     ]
    }
   ],
   "source": [
    "n = len(train_labels)\n",
    "nb = len([p for p in train_labels if p[0] == 'B'])\n",
    "ng = len([p for p in train_labels if p[0] == 'F'])\n",
    "\n",
    "pb = nb/n\n",
    "pg = ng/n\n",
    "\n",
    "pxb = len([p for p in data if p[1] == 'B' and np.digitize(p[0], bins, right = True) == x_to_bins])/nb\n",
    "pxg = len([p for p in data if p[1] == 'F' and np.digitize(p[0], bins, right = True) == x_to_bins])/ng\n",
    "px = len([p for p in train_data if np.digitize(p[0], bins, right = True) == x_to_bins])/n\n",
    "print([pb, pg, pxb, pxg, px])"
   ]
  },
  {
   "cell_type": "code",
   "execution_count": 6,
   "id": "7713410f",
   "metadata": {},
   "outputs": [
    {
     "name": "stdout",
     "output_type": "stream",
     "text": [
      "0.75\n"
     ]
    }
   ],
   "source": [
    "# probability to be a boy\n",
    "pbx = pb * pxb / px\n",
    "print(pbx)"
   ]
  },
  {
   "cell_type": "code",
   "execution_count": 7,
   "id": "23a68096",
   "metadata": {},
   "outputs": [
    {
     "name": "stdout",
     "output_type": "stream",
     "text": [
      "0.25\n"
     ]
    }
   ],
   "source": [
    "# probability to be a girl\n",
    "pgx = pg * pxg / px\n",
    "print(pgx)"
   ]
  },
  {
   "cell_type": "code",
   "execution_count": 8,
   "id": "3dca32b3",
   "metadata": {},
   "outputs": [
    {
     "name": "stdout",
     "output_type": "stream",
     "text": [
      "[[0. 0. 0. ... 0. 0. 0.]\n",
      " [0. 0. 0. ... 0. 0. 0.]\n",
      " [0. 0. 0. ... 0. 0. 0.]\n",
      " ...\n",
      " [0. 0. 0. ... 0. 0. 0.]\n",
      " [0. 0. 0. ... 0. 0. 0.]\n",
      " [0. 0. 0. ... 0. 0. 0.]]\n"
     ]
    }
   ],
   "source": [
    "# 2.\n",
    "# load images\n",
    "train_images = np.loadtxt('E:\\\\facultate\\Anul 2, sem II\\IA\\ML\\lab2\\data\\\\train_images.txt') \n",
    "# load labels as int\n",
    "train_labels = np.loadtxt('E:\\\\facultate\\Anul 2, sem II\\IA\\ML\\lab2\\data\\\\train_labels.txt').astype(np.int64)\n",
    "\n",
    "print(train_images)"
   ]
  },
  {
   "cell_type": "code",
   "execution_count": 9,
   "id": "b2ea89f3",
   "metadata": {},
   "outputs": [
    {
     "name": "stdout",
     "output_type": "stream",
     "text": [
      "(1000, 784)\n"
     ]
    }
   ],
   "source": [
    "print(np.shape(train_images))"
   ]
  },
  {
   "cell_type": "code",
   "execution_count": 10,
   "id": "68c9f23c",
   "metadata": {},
   "outputs": [
    {
     "data": {
      "image/png": "[encoded data removed]",
      "text/plain": [
       "<Figure size 640x480 with 1 Axes>"
      ]
     },
     "metadata": {},
     "output_type": "display_data"
    }
   ],
   "source": [
    "# first image\n",
    "image = train_images[0, :]\n",
    "image = np.reshape(image, (28, 28))\n",
    "plt.imshow(image.astype(np.uint8), cmap='gray')\n",
    "plt.show()"
   ]
  },
  {
   "cell_type": "code",
   "execution_count": 11,
   "id": "8eb67ec2",
   "metadata": {},
   "outputs": [],
   "source": [
    "# load images\n",
    "test_images = np.loadtxt('E:\\\\facultate\\Anul 2, sem II\\IA\\ML\\lab2\\data\\\\test_images.txt') \n",
    "# load labels as int\n",
    "test_labels = np.loadtxt('E:\\\\facultate\\Anul 2, sem II\\IA\\ML\\lab2\\data\\\\test_labels.txt').astype(np.int64)\n",
    "\n",
    "\n",
    "def values_to_bins(matrix, num_bins):\n",
    "    bins = np.linspace(start=0, stop=256, num = num_bins)\n",
    "    return np.digitize(matrix, bins) - 1"
   ]
  },
  {
   "cell_type": "code",
   "execution_count": 12,
   "id": "d6147d8f",
   "metadata": {},
   "outputs": [
    {
     "name": "stdout",
     "output_type": "stream",
     "text": [
      "[[0 0 0 ... 0 0 0]\n",
      " [0 0 0 ... 0 0 0]\n",
      " [0 0 0 ... 0 0 0]\n",
      " ...\n",
      " [0 0 0 ... 0 0 0]\n",
      " [0 0 0 ... 0 0 0]\n",
      " [0 0 0 ... 0 0 0]]\n"
     ]
    }
   ],
   "source": [
    "discrete_train = values_to_bins(train_images, 5)\n",
    "print(discrete_train)"
   ]
  },
  {
   "cell_type": "code",
   "execution_count": 13,
   "id": "7a138c49",
   "metadata": {},
   "outputs": [
    {
     "name": "stdout",
     "output_type": "stream",
     "text": [
      "[[0 0 0 ... 0 0 0]\n",
      " [0 0 0 ... 0 0 0]\n",
      " [0 0 0 ... 0 0 0]\n",
      " ...\n",
      " [0 0 0 ... 0 0 0]\n",
      " [0 0 0 ... 0 0 0]\n",
      " [0 0 0 ... 0 0 0]]\n"
     ]
    }
   ],
   "source": [
    "discrete_test = values_to_bins(test_images, 5)\n",
    "print(discrete_test)"
   ]
  },
  {
   "cell_type": "code",
   "execution_count": 14,
   "id": "a3a73ebd",
   "metadata": {},
   "outputs": [
    {
     "name": "stdout",
     "output_type": "stream",
     "text": [
      "Naive Bayes score: 0.836\n"
     ]
    }
   ],
   "source": [
    "# 3.\n",
    "naive_bayes_model = MultinomialNB()\n",
    "naive_bayes_model.fit(discrete_train, train_labels)\n",
    "score = naive_bayes_model.score(discrete_test, test_labels)\n",
    "print(f\"Naive Bayes score: {score}\")"
   ]
  },
  {
   "cell_type": "code",
   "execution_count": 15,
   "id": "84fa8cff",
   "metadata": {},
   "outputs": [
    {
     "name": "stdout",
     "output_type": "stream",
     "text": [
      "Number of bins: 3\n",
      "Score: 0.83\n",
      "Number of bins: 5\n",
      "Score: 0.836\n",
      "Number of bins: 7\n",
      "Score: 0.842\n",
      "Number of bins: 9\n",
      "Score: 0.842\n",
      "Number of bins: 11\n",
      "Score: 0.842\n"
     ]
    }
   ],
   "source": [
    "# 4.\n",
    "num_bins = [3, 5, 7, 9, 11]\n",
    "for n in num_bins:\n",
    "    print(f\"Number of bins: {n}\")\n",
    "    discrete_train = values_to_bins(train_images, n)\n",
    "    discrete_test = values_to_bins(test_images, n)\n",
    "    naive_bayes_model = MultinomialNB()\n",
    "    naive_bayes_model.fit(discrete_train, train_labels)\n",
    "    score = naive_bayes_model.score(discrete_test, test_labels)\n",
    "    print(f\"Score: {score}\")   "
   ]
  },
  {
   "cell_type": "code",
   "execution_count": 20,
   "id": "9d0c5612",
   "metadata": {},
   "outputs": [
    {
     "name": "stdout",
     "output_type": "stream",
     "text": [
      "[2 7 3 1 2 2 0 8 1 4 7 3 2 0 8 3 8 9 9 1 8 2 0 0 5 9 6 2 6 7 3 2 4 9 6 6 1\n",
      " 7 5 3 0 1 8 2 2 1 3 7 9 6 7 6 7 7 9 7 3 1 2 1 7 8 0 8 8 3 1 6 0 5 8 8 6 3\n",
      " 2 4 4 0 9 1 9 4 3 3 1 4 0 5 7 9 0 5 2 3 4 4 4 9 5 0 0 6 8 4 6 0 7 0 8 8 7\n",
      " 9 3 0 5 9 5 3 5 7 3 9 9 4 8 9 3 0 8 1 0 9 2 6 6 3 7 0 2 8 7 0 4 2 1 3 1 3\n",
      " 5 3 9 3 0 0 3 6 3 2 0 1 6 4 3 2 8 2 4 4 7 8 5 3 7 4 2 8 0 0 0 3 1 6 6 2 5\n",
      " 2 9 2 9 3 5 2 7 0 0 3 7 8 6 7 8 7 0 5 3 2 8 2 4 7 8 9 4 9 8 0 7 6 3 9 2 5\n",
      " 6 0 1 9 6 0 2 5 9 5 8 4 1 4 6 2 6 9 4 9 5 2 4 5 3 8 3 8 8 8 1 0 4 8 8 9 3\n",
      " 4 4 8 9 0 1 7 7 4 5 0 1 3 7 5 6 9 2 1 2 8 9 6 8 4 6 9 0 5 3 3 5 6 6 5 8 2\n",
      " 9 3 6 1 1 7 0 8 8 3 2 1 0 0 8 0 0 1 1 6 9 2 4 2 7 0 8 8 4 1 7 2 4 2 0 9 6\n",
      " 1 3 9 9 0 0 4 6 7 1 0 1 3 2 5 5 3 2 9 1 6 6 8 9 4 1 3 9 0 5 4 3 4 1 3 1 2\n",
      " 4 2 4 2 2 3 4 4 7 1 3 7 6 5 7 9 3 0 8 4 9 9 9 6 2 2 1 5 6 6 7 9 9 3 5 4 1\n",
      " 1 3 5 5 6 5 9 0 0 9 2 2 9 2 7 3 9 7 2 0 9 7 0 3 1 7 8 4 2 2 7 3 3 2 9 3 2\n",
      " 3 0 9 9 9 3 4 3 1 1 2 2 4 8 6 6 0 1 2 1 6 1 7 6 1 1 4 3 1 1 6 8 7 8 5 1 9\n",
      " 8 6 7 3 3 0 6 0 3 5 1 3 9 9 3 6 8 6 5]\n"
     ]
    }
   ],
   "source": [
    "# 5.\n",
    "discrete_train = values_to_bins(train_images, 11)\n",
    "discrete_test = values_to_bins(test_images, 11)\n",
    "naive_bayes_model = MultinomialNB()\n",
    "naive_bayes_model.fit(discrete_train, train_labels)\n",
    "predictions = naive_bayes_model.predict(discrete_test)\n",
    "print(predictions)\n"
   ]
  },
  {
   "cell_type": "code",
   "execution_count": 17,
   "id": "4b133ad3",
   "metadata": {},
   "outputs": [
    {
     "name": "stdout",
     "output_type": "stream",
     "text": [
      "[ True  True  True  True  True  True  True False  True  True  True  True\n",
      "  True False  True  True  True  True  True  True  True  True  True  True\n",
      "  True False  True  True  True  True  True  True  True False  True  True\n",
      "  True  True  True False  True  True False  True  True  True  True  True\n",
      "  True  True  True  True  True  True False  True  True  True  True  True\n",
      "  True  True  True False  True  True  True  True  True  True  True False\n",
      "  True  True  True False False  True  True  True False  True  True False\n",
      "  True  True  True  True  True  True  True  True  True  True  True  True\n",
      "  True  True  True  True  True  True  True  True  True  True  True  True\n",
      "  True False  True False  True  True  True False  True  True False  True\n",
      "  True  True  True  True False  True  True  True False  True  True  True\n",
      "  True  True  True  True  True  True  True  True  True False  True  True\n",
      "  True  True False False  True False False  True  True  True  True  True\n",
      "  True  True  True  True  True  True  True  True False False False  True\n",
      "  True  True  True False  True  True  True  True  True  True  True  True\n",
      "  True  True  True  True  True  True  True  True False  True  True False\n",
      "  True  True  True  True  True  True  True  True  True  True  True  True\n",
      "  True  True  True  True  True  True  True False  True False False False\n",
      "  True  True  True  True  True  True  True  True  True  True  True  True\n",
      "  True  True  True  True  True False  True False  True False  True  True\n",
      "  True False  True  True  True  True False  True  True  True  True  True\n",
      "  True  True  True  True False  True  True  True False False False  True\n",
      "  True  True  True  True  True  True  True False  True  True False  True\n",
      "  True  True  True  True  True False  True False  True  True  True  True\n",
      "  True  True  True  True  True  True  True  True  True  True  True  True\n",
      "  True  True  True  True False  True False  True  True  True  True  True\n",
      "  True  True  True  True  True  True  True  True  True  True  True  True\n",
      "  True  True False  True  True  True  True False  True  True False False\n",
      " False  True  True  True  True  True  True False  True  True  True  True\n",
      "  True  True  True  True  True  True False  True  True  True  True  True\n",
      " False  True  True  True  True False  True False  True  True  True  True\n",
      " False  True  True  True  True False  True  True  True  True  True  True\n",
      " False False False  True  True  True  True  True  True  True  True  True\n",
      "  True  True  True  True  True  True  True  True  True  True False  True\n",
      "  True  True  True  True  True  True  True  True False  True  True  True\n",
      "  True  True  True False  True  True  True  True  True  True False  True\n",
      "  True False  True  True  True  True  True False  True  True  True False\n",
      "  True  True False  True False  True  True  True  True  True  True  True\n",
      "  True False  True  True  True  True  True False  True  True  True  True\n",
      "  True  True  True  True  True  True  True  True  True  True  True  True\n",
      "  True  True  True  True  True  True  True  True  True False  True  True\n",
      " False False  True  True False  True  True  True]\n"
     ]
    }
   ],
   "source": [
    "print(predictions == test_labels)"
   ]
  },
  {
   "cell_type": "code",
   "execution_count": 18,
   "id": "38bf7955",
   "metadata": {},
   "outputs": [
    {
     "name": "stdout",
     "output_type": "stream",
     "text": [
      "[  7  13  25  33  39  42  54  63  71  75  76  80  83 109 111 115 118 124\n",
      " 128 141 146 147 149 150 164 165 166 171 188 191 211 213 214 215 233 235\n",
      " 237 241 246 256 260 261 262 271 274 281 283 304 306 326 331 334 335 336\n",
      " 343 354 360 365 367 372 377 384 385 386 406 416 423 430 433 439 443 446\n",
      " 448 457 463 489 492 493 496]\n"
     ]
    }
   ],
   "source": [
    "wrongPredictions = np.where((predictions == test_labels) == False)\n",
    "print(wrongPredictions[0])"
   ]
  },
  {
   "cell_type": "code",
   "execution_count": 19,
   "id": "bce5ab73",
   "metadata": {},
   "outputs": [
    {
     "name": "stdout",
     "output_type": "stream",
     "text": [
      "This image was wrongly classified as the number 8:\n"
     ]
    },
    {
     "data": {
      "image/png": "[encoded data removed]",
      "text/plain": [
       "<Figure size 640x480 with 1 Axes>"
      ]
     },
     "metadata": {},
     "output_type": "display_data"
    },
    {
     "name": "stdout",
     "output_type": "stream",
     "text": [
      "This image was wrongly classified as the number 0:\n"
     ]
    },
    {
     "data": {
      "image/png": "[encoded data removed]",
      "text/plain": [
       "<Figure size 640x480 with 1 Axes>"
      ]
     },
     "metadata": {},
     "output_type": "display_data"
    },
    {
     "name": "stdout",
     "output_type": "stream",
     "text": [
      "This image was wrongly classified as the number 9:\n"
     ]
    },
    {
     "data": {
      "image/png": "[encoded data removed]",
      "text/plain": [
       "<Figure size 640x480 with 1 Axes>"
      ]
     },
     "metadata": {},
     "output_type": "display_data"
    },
    {
     "name": "stdout",
     "output_type": "stream",
     "text": [
      "This image was wrongly classified as the number 9:\n"
     ]
    },
    {
     "data": {
      "image/png": "[encoded data removed]",
      "text/plain": [
       "<Figure size 640x480 with 1 Axes>"
      ]
     },
     "metadata": {},
     "output_type": "display_data"
    },
    {
     "name": "stdout",
     "output_type": "stream",
     "text": [
      "This image was wrongly classified as the number 3:\n"
     ]
    },
    {
     "data": {
      "image/png": "[encoded data removed]",
      "text/plain": [
       "<Figure size 640x480 with 1 Axes>"
      ]
     },
     "metadata": {},
     "output_type": "display_data"
    },
    {
     "name": "stdout",
     "output_type": "stream",
     "text": [
      "This image was wrongly classified as the number 8:\n"
     ]
    },
    {
     "data": {
      "image/png": "[encoded data removed]",
      "text/plain": [
       "<Figure size 640x480 with 1 Axes>"
      ]
     },
     "metadata": {},
     "output_type": "display_data"
    },
    {
     "name": "stdout",
     "output_type": "stream",
     "text": [
      "This image was wrongly classified as the number 9:\n"
     ]
    },
    {
     "data": {
      "image/png": "[encoded data removed]",
      "text/plain": [
       "<Figure size 640x480 with 1 Axes>"
      ]
     },
     "metadata": {},
     "output_type": "display_data"
    },
    {
     "name": "stdout",
     "output_type": "stream",
     "text": [
      "This image was wrongly classified as the number 8:\n"
     ]
    },
    {
     "data": {
      "image/png": "[encoded data removed]",
      "text/plain": [
       "<Figure size 640x480 with 1 Axes>"
      ]
     },
     "metadata": {},
     "output_type": "display_data"
    },
    {
     "name": "stdout",
     "output_type": "stream",
     "text": [
      "This image was wrongly classified as the number 8:\n"
     ]
    },
    {
     "data": {
      "image/png": "[encoded data removed]",
      "text/plain": [
       "<Figure size 640x480 with 1 Axes>"
      ]
     },
     "metadata": {},
     "output_type": "display_data"
    },
    {
     "name": "stdout",
     "output_type": "stream",
     "text": [
      "This image was wrongly classified as the number 4:\n"
     ]
    },
    {
     "data": {
      "image/png": "[encoded data removed]",
      "text/plain": [
       "<Figure size 640x480 with 1 Axes>"
      ]
     },
     "metadata": {},
     "output_type": "display_data"
    },
    {
     "name": "stdout",
     "output_type": "stream",
     "text": [
      "This image was wrongly classified as the number 4:\n"
     ]
    },
    {
     "data": {
      "image/png": "[encoded data removed]",
      "text/plain": [
       "<Figure size 640x480 with 1 Axes>"
      ]
     },
     "metadata": {},
     "output_type": "display_data"
    }
   ],
   "source": [
    "cnt = 0\n",
    "for i in wrongPredictions[0]:\n",
    "    if cnt > 10:\n",
    "        break\n",
    "    print(f\"This image was wrongly classified as the number {predictions[i]}:\")\n",
    "    image = test_images[i, :]\n",
    "    image = np.reshape(image, (28, 28))\n",
    "    plt.imshow(image.astype(np.uint8), cmap='gray')\n",
    "    plt.show()\n",
    "    cnt += 1"
   ]
  },
  {
   "cell_type": "code",
   "execution_count": 33,
   "id": "eb3fcbe3",
   "metadata": {},
   "outputs": [
    {
     "name": "stdout",
     "output_type": "stream",
     "text": [
      "[[51  0  0  0  0  0  1  0  1  0]\n",
      " [ 0 48  0  0  0  0  1  0  3  0]\n",
      " [ 2  0 51  1  1  0  0  1  1  1]\n",
      " [ 0  0  1 49  0  0  0  0  0  3]\n",
      " [ 0  0  0  0 34  0  0  0  2 10]\n",
      " [ 1  0  0  9  0 35  1  0  5  1]\n",
      " [ 1  1  0  0  1  0 43  0  2  0]\n",
      " [ 0  1  0  0  2  0  0 41  0  6]\n",
      " [ 0  1  3  3  1  1  1  1 34  1]\n",
      " [ 0  0  1  1  5  0  0  0  0 35]]\n"
     ]
    }
   ],
   "source": [
    "# 6.\n",
    "confusion_matrix = []\n",
    "for i in range(10):\n",
    "    current = [0]*10\n",
    "    index = (np.where(test_labels == i))[0]\n",
    "    for j in index:\n",
    "        current[predictions[j]] += 1\n",
    "    confusion_matrix.append(current)\n",
    "\n",
    "confusion_matrix = np.array(confusion_matrix)\n",
    "print(confusion_matrix)"
   ]
  },
  {
   "cell_type": "code",
   "execution_count": 34,
   "id": "fc4a143e",
   "metadata": {},
   "outputs": [
    {
     "data": {
      "image/png": "[encoded data removed]",
      "text/plain": [
       "<Figure size 640x480 with 1 Axes>"
      ]
     },
     "metadata": {},
     "output_type": "display_data"
    }
   ],
   "source": [
    "plt.imshow(confusion_matrix, cmap='hot', interpolation='nearest')\n",
    "plt.show()"
   ]
  }
 ],
 "metadata": {
  "kernelspec": {
   "display_name": "Python 3 (ipykernel)",
   "language": "python",
   "name": "python3"
  },
  "language_info": {
   "codemirror_mode": {
    "name": "ipython",
    "version": 3
   },
   "file_extension": ".py",
   "mimetype": "text/x-python",
   "name": "python",
   "nbconvert_exporter": "python",
   "pygments_lexer": "ipython3",
   "version": "3.10.9"
  }
 },
 "nbformat": 4,
 "nbformat_minor": 5
}
